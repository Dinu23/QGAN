{
  "cells": [
    {
      "cell_type": "code",
      "execution_count": 3,
      "metadata": {
        "colab": {
          "base_uri": "https://localhost:8080/"
        },
        "id": "gfHiQ8w83Ca4",
        "outputId": "f52136a6-bf9b-4df2-d963-28004a4a1cae"
      },
      "outputs": [
        {
          "name": "stderr",
          "output_type": "stream",
          "text": [
            "2024-08-23 10:05:18.132711: I external/local_xla/xla/tsl/cuda/cudart_stub.cc:32] Could not find cuda drivers on your machine, GPU will not be used.\n",
            "2024-08-23 10:05:18.136156: I external/local_xla/xla/tsl/cuda/cudart_stub.cc:32] Could not find cuda drivers on your machine, GPU will not be used.\n",
            "2024-08-23 10:05:18.146119: E external/local_xla/xla/stream_executor/cuda/cuda_fft.cc:485] Unable to register cuFFT factory: Attempting to register factory for plugin cuFFT when one has already been registered\n",
            "2024-08-23 10:05:18.163200: E external/local_xla/xla/stream_executor/cuda/cuda_dnn.cc:8454] Unable to register cuDNN factory: Attempting to register factory for plugin cuDNN when one has already been registered\n",
            "2024-08-23 10:05:18.168212: E external/local_xla/xla/stream_executor/cuda/cuda_blas.cc:1452] Unable to register cuBLAS factory: Attempting to register factory for plugin cuBLAS when one has already been registered\n",
            "2024-08-23 10:05:18.180927: I tensorflow/core/platform/cpu_feature_guard.cc:210] This TensorFlow binary is optimized to use available CPU instructions in performance-critical operations.\n",
            "To enable the following instructions: AVX2 FMA, in other operations, rebuild TensorFlow with the appropriate compiler flags.\n",
            "2024-08-23 10:05:19.156727: W tensorflow/compiler/tf2tensorrt/utils/py_utils.cc:38] TF-TRT Warning: Could not find TensorRT\n"
          ]
        }
      ],
      "source": [
        "\n",
        "import cirq\n",
        "import qsimcirq\n",
        "import sympy \n",
        "import numpy as np\n",
        "import matplotlib.pyplot as plt\n",
        "# from google.colab.patches import cv2_imshow\n",
        "import cv2\n",
        "import tensorflow as tf\n"
      ]
    },
    {
      "attachments": {},
      "cell_type": "markdown",
      "metadata": {
        "id": "HX-NxSicr4CN"
      },
      "source": [
        "# **Generator**"
      ]
    },
    {
      "cell_type": "code",
      "execution_count": 83,
      "metadata": {
        "id": "b6kq32hIEltd"
      },
      "outputs": [],
      "source": [
        "\n",
        "class GeneratorY:\n",
        "    def __init__(self, image_shape, data_size = 3, no_partitions = 1, no_ancillary_qubits=1, no_blocks = 2) -> None:\n",
        "        self.image_shape = image_shape\n",
        "        self.data_size = data_size\n",
        "        self.no_partitions = no_partitions\n",
        "        self.no_qubits = no_ancillary_qubits + data_size\n",
        "        self.no_blocks = no_blocks\n",
        "        \n",
        "        self.z = [sympy.Symbol(f'z_{i}') for i in range(self.no_qubits)]\n",
        "        self.theta = [sympy.Symbol(f'θ_{i}') for i in range(no_partitions * no_blocks * self.no_qubits)]\n",
        "        self.circuits = []\n",
        "        self.outputs = []\n",
        "\n",
        "        self.qubits = cirq.LineQubit.range(self.no_qubits)\n",
        "        self._generate_circuits()\n",
        "        \n",
        "        qsim_options = qsimcirq.QSimOptions( cpu_threads=12, verbosity=1)\n",
        "        self.simulator = qsimcirq.QSimSimulator(qsim_options)\n",
        "\n",
        "    def _generate_circuits(self):\n",
        "        extra = (self.image_shape[0] * self.image_shape[1]) % self.no_partitions\n",
        "        out = (self.image_shape[0] * self.image_shape[1]) // self.no_partitions\n",
        "        for i in range(self.no_partitions):\n",
        "            \n",
        "            circuit = cirq.Circuit()\n",
        "            circuit.append(create_input_state(self.qubits,self.z))\n",
        "            \n",
        "            for j in range(self.no_blocks):\n",
        "                start = (i * self.no_blocks *  self.no_qubits) + j *  self.no_qubits\n",
        "                end = (i * self.no_blocks *  self.no_qubits) + (j+1) *  self.no_qubits\n",
        "                circuit.append(blockY(self.qubits, self.no_qubits, self.theta[start:end]))\n",
        "            self.outputs.append(out +( 1 if i < extra else 0))\n",
        "            self.circuits.append(circuit)\n",
        "\n",
        "    def generate_images(self, theta, n, no_repetitions = 100):\n",
        "        resolved_circuits = []\n",
        "        for i in range(self.no_partitions):\n",
        "            start = (i * self.no_blocks *  self.no_qubits)\n",
        "            end = ((i+1) * self.no_blocks *  self.no_qubits)\n",
        "            # print(start,end)\n",
        "            theta_mapping = [(self.theta[j], theta[j]) for j in range(start,end)]\n",
        "            resolve_dict = dict(theta_mapping)\n",
        "\n",
        "            resolver = cirq.ParamResolver(resolve_dict)\n",
        "            resolved_circuit = cirq.resolve_parameters(self.circuits[i], resolver)\n",
        "            if(no_repetitions > 0):\n",
        "                resolved_circuit.append(measurments(self.qubits))\n",
        "            resolved_circuits.append(resolved_circuit)\n",
        "        final = []\n",
        "        for _ in range(n):\n",
        "            image = []\n",
        "            z = np.random.normal(0,1,self.no_qubits) * np.pi\n",
        "            for i in range(self.no_partitions):\n",
        "                z_mapping = [(self.z[j], z[j]) for j in range(self.no_qubits)]\n",
        "                start = (i * self.no_blocks *  self.no_qubits)\n",
        "                end = ((i+1) * self.no_blocks *  self.no_qubits)\n",
        "               \n",
        "                resolve_dict = dict(z_mapping)\n",
        "\n",
        "                resolver = cirq.ParamResolver(resolve_dict)\n",
        "                resolved_circuit = cirq.resolve_parameters(resolved_circuits[i], resolver)\n",
        "\n",
        "                \n",
        "                if(no_repetitions > 0):\n",
        "                    results = self.simulator.run(resolved_circuit, repetitions=no_repetitions)\n",
        "                    d = results.histogram(key='M')\n",
        "                    probs = np.zeros(2**self.no_qubits)\n",
        "                    for val in d.keys():\n",
        "                        probs[val] = d[val]/no_repetitions\n",
        "                    \n",
        "                    probs = probs[:(2**self.data_size)]\n",
        "                    probs = probs/ np.sum(probs)\n",
        "                    values = probs/ np.max(probs)\n",
        "                    elements = [values[i] for i in range(self.outputs[i])]\n",
        "                else:\n",
        "                    results = self.simulator.simulate(resolved_circuit)\n",
        "                    d = np.array(results.final_state_vector)\n",
        "                    probs = np.abs(d)**2\n",
        "                    probs = probs[:2**self.data_size]\n",
        "                    probs = probs/ np.sum(probs)\n",
        "                    values = probs/ np.max(probs)\n",
        "                    elements = [values[i] for i in range(self.outputs[i])]\n",
        "                image = image + elements\n",
        "            \n",
        "            image = np.reshape(image,self.image_shape)\n",
        "            \n",
        "            final.append(image)\n",
        "        return final\n",
        "    \n",
        "\n",
        "class GeneratorXYZ:\n",
        "    def __init__(self, image_shape, data_size = 3, no_partitions = 1, no_ancillary_qubits=1, no_blocks = 2) -> None:\n",
        "        self.image_shape = image_shape\n",
        "        self.data_size = data_size\n",
        "        self.no_partitions = no_partitions\n",
        "        self.no_qubits = no_ancillary_qubits + data_size\n",
        "        self.no_blocks = no_blocks\n",
        "        \n",
        "        self.z = [sympy.Symbol(f'z_{i}') for i in range(self.no_qubits)]\n",
        "        self.theta = [sympy.Symbol(f'θ_{i}') for i in range(no_partitions * no_blocks * (3 * self.no_qubits))]\n",
        "        self.circuits = []\n",
        "        self.outputs = []\n",
        "\n",
        "        self.qubits = cirq.LineQubit.range(self.no_qubits)\n",
        "        self._generate_circuits()\n",
        "        \n",
        "        qsim_options = qsimcirq.QSimOptions( cpu_threads=12, verbosity=1)\n",
        "        self.simulator = qsimcirq.QSimSimulator(qsim_options)\n",
        "        \n",
        "\n",
        "\n",
        "    def _generate_circuits(self):\n",
        "        extra = (self.image_shape[0] * self.image_shape[1]) % self.no_partitions\n",
        "        out = (self.image_shape[0] * self.image_shape[1]) // self.no_partitions\n",
        "        for i in range(self.no_partitions):\n",
        "            \n",
        "            circuit = cirq.Circuit()\n",
        "            circuit.append(create_input_state(self.qubits,self.z))\n",
        "            \n",
        "            for j in range(self.no_blocks):\n",
        "                start = (i * self.no_blocks * (3 * self.no_qubits)) + j * (3 * self.no_qubits)\n",
        "                end = (i * self.no_blocks * (3 * self.no_qubits)) + (j+1) * (3 * self.no_qubits)\n",
        "                circuit.append(blockXYZ(self.qubits, self.no_qubits, self.theta[start:end]))\n",
        "            self.outputs.append(out +( 1 if i < extra else 0))\n",
        "            self.circuits.append(circuit)\n",
        "\n",
        "    def generate_images(self, theta, n, no_repetitions = 100):\n",
        "        resolved_circuits = []\n",
        "        for i in range(self.no_partitions):\n",
        "            start = (i * self.no_blocks * (3 * self.no_qubits))\n",
        "            end = ((i+1) * self.no_blocks * (3 * self.no_qubits))\n",
        "            \n",
        "            theta_mapping = [(self.theta[j], theta[j]) for j in range(start,end)]\n",
        "            resolve_dict = dict(theta_mapping)\n",
        "\n",
        "            resolver = cirq.ParamResolver(resolve_dict)\n",
        "            resolved_circuit = cirq.resolve_parameters(self.circuits[i], resolver)\n",
        "            if(no_repetitions > 0):\n",
        "                resolved_circuit.append(measurments(self.qubits))\n",
        "            resolved_circuits.append(resolved_circuit)\n",
        "        final = []\n",
        "        for _ in range(n):\n",
        "            image = []\n",
        "            z = np.random.normal(0,1,self.no_qubits) * np.pi\n",
        "            for i in range(self.no_partitions):\n",
        "                z_mapping = [(self.z[j], z[j]) for j in range(self.no_qubits)]\n",
        "                start = (i * self.no_blocks * (3 * self.no_qubits))\n",
        "                end = ((i+1) * self.no_blocks * (3 * self.no_qubits))\n",
        "               \n",
        "                resolve_dict = dict(z_mapping)\n",
        "\n",
        "                resolver = cirq.ParamResolver(resolve_dict)\n",
        "                resolved_circuit = cirq.resolve_parameters(resolved_circuits[i], resolver)\n",
        "                \n",
        "                if(no_repetitions > 0):\n",
        "                    results = self.simulator.run(resolved_circuit, repetitions=no_repetitions)\n",
        "                    d = results.histogram(key='M')\n",
        "                    probs = np.zeros(2**self.no_qubits)\n",
        "                    for val in d.keys():\n",
        "                        probs[val] = d[val]/no_repetitions\n",
        "                    \n",
        "                    probs = probs[:(2**self.data_size)]\n",
        "                    probs = probs/ np.sum(probs)\n",
        "                    values = probs/ np.max(probs)\n",
        "                    elements = [values[i] for i in range(self.outputs[i])]\n",
        "                else:\n",
        "                    results = self.simulator.simulate(resolved_circuit)\n",
        "                    d = np.array(results.final_state_vector)\n",
        "                    probs = np.abs(d)**2\n",
        "                    probs = probs[:2**self.data_size]\n",
        "                    probs = probs/ np.sum(probs)\n",
        "                    values = probs/ np.max(probs)\n",
        "                    elements = [values[i] for i in range(self.outputs[i])]\n",
        "                image = image + elements\n",
        "            \n",
        "            image = np.reshape(image,self.image_shape)\n",
        "            \n",
        "            final.append(image)\n",
        "\n",
        "        return final\n",
        "\n",
        "\n",
        "\n",
        "def create_input_state(qubits,z):\n",
        "    for i in range(len(z)):\n",
        "        yield cirq.ry(z[i]).on(qubits[i])\n",
        "\n",
        "def blockY(qubits, no_qubits, theta):\n",
        "    for i in range(no_qubits):\n",
        "        yield cirq.ry(theta[i]).on(qubits[i])\n",
        "    for i in range(1,no_qubits):\n",
        "        yield cirq.CZ(qubits[i-1],qubits[i])\n",
        "\n",
        "def blockXYZ(qubits, no_qubits, theta):\n",
        "    for i in range(no_qubits):\n",
        "        yield cirq.rx(theta[i*3]).on(qubits[i])\n",
        "        yield cirq.ry(theta[i]).on(qubits[i])\n",
        "        yield cirq.rz(theta[i*3+2]).on(qubits[i])\n",
        "    for i in range(1,no_qubits):\n",
        "        yield cirq.CZ(qubits[i-1],qubits[i])\n",
        "\n",
        "def measurments(qubits):\n",
        "    yield cirq.measure(qubits, key='M')\n"
      ]
    },
    {
      "attachments": {},
      "cell_type": "markdown",
      "metadata": {
        "id": "HhV2awjssCia"
      },
      "source": [
        "# **Discriminator**"
      ]
    },
    {
      "cell_type": "code",
      "execution_count": 84,
      "metadata": {
        "id": "X6Kg2aH_tnsm"
      },
      "outputs": [],
      "source": [
        "class Discriminator:\n",
        "    def __init__(self, image_shape) -> None:\n",
        "        self.image_shape = image_shape\n",
        "        self.model = self._create_model()\n",
        "        self.model.summary()\n",
        "        \n",
        "\n",
        "    def _create_model(self):\n",
        "        input = tf.keras.Input(self.image_shape)\n",
        "        layer = tf.keras.layers.Conv2D(16, (3,3), padding=\"same\",activation=tf.nn.relu,kernel_initializer= tf.keras.initializers.HeUniform(),)(input)\n",
        "        max_pool = tf.keras.layers.MaxPool2D((2,2))(layer)  \n",
        "        flatten = tf.keras.layers.Flatten()(max_pool)\n",
        "        output = tf.keras.layers.Dense(1, activation=tf.nn.sigmoid)(flatten)\n",
        "        return tf.keras.Model(inputs=input, outputs=output)\n",
        "\n",
        "    def predict(self, images, batch_size=32):\n",
        "        return self.model.predict(images,batch_size = batch_size,verbose = 0)"
      ]
    },
    {
      "attachments": {},
      "cell_type": "markdown",
      "metadata": {},
      "source": [
        "# **Loss function**"
      ]
    },
    {
      "cell_type": "code",
      "execution_count": 85,
      "metadata": {
        "id": "LkWQBOzP0cT6"
      },
      "outputs": [],
      "source": [
        "def discriminator_loss(y_true, y_pred):\n",
        "    return -tf.math.reduce_mean(y_true * tf.math.log(y_pred) + (1-y_true) * tf.math.log(1-y_pred))\n",
        "\n",
        "def generator_loss(y_pred):\n",
        "    return -np.mean(np.log(y_pred))"
      ]
    },
    {
      "attachments": {},
      "cell_type": "markdown",
      "metadata": {},
      "source": [
        "# **Compute Gradients**"
      ]
    },
    {
      "cell_type": "code",
      "execution_count": 86,
      "metadata": {
        "id": "h-0mUCxgLLJL"
      },
      "outputs": [],
      "source": [
        "def compute_gradients_generator(theta, generator, discriminator, batch_size=8, no_repetitions = 100):\n",
        "    grads = np.zeros(len(theta))\n",
        "    for i in range(len(theta)):\n",
        "        theta_plus = np.array(theta)\n",
        "        theta_plus[i] += np.pi/2\n",
        "        # print(theta_plus - theta)\n",
        "        images = np.array(generator.generate_images(theta_plus, batch_size, no_repetitions = no_repetitions))\n",
        "        probs = discriminator.predict(images,batch_size = batch_size)\n",
        "        loss_plus = generator_loss(probs)\n",
        "\n",
        "        theta_minus = np.array(theta)\n",
        "        theta_minus[i] -= np.pi/2\n",
        "        images = np.array(generator.generate_images(theta_minus, batch_size, no_repetitions = no_repetitions))\n",
        "        probs = discriminator.predict(images,batch_size = batch_size)\n",
        "        loss_minus = generator_loss(probs)\n",
        "        \n",
        "        grads[i] += (loss_plus- loss_minus)/2\n",
        "    return grads\n",
        "    "
      ]
    },
    {
      "attachments": {},
      "cell_type": "markdown",
      "metadata": {},
      "source": [
        "# **Plot**"
      ]
    },
    {
      "cell_type": "code",
      "execution_count": 87,
      "metadata": {},
      "outputs": [],
      "source": [
        "def grid_plot(images, epoch='', name='', n=3, save=False, scale=False):\n",
        "    for index in range(n * n):\n",
        "        plt.subplot(n, n, 1 + index)\n",
        "        plt.axis('off')\n",
        "        image = images[index]\n",
        "        image = cv2.resize(image,(256,256),interpolation=cv2.INTER_AREA)\n",
        "        plt.imshow(image,cmap='gray', vmin=0, vmax=1)\n",
        "    fig = plt.gcf()\n",
        "    fig.suptitle(name + '  '+ str(epoch), fontsize=14)\n",
        "    if save:\n",
        "        filename = 'results/generated_plot_e%03d_f.png' % (epoch+1)\n",
        "        plt.savefig(filename)\n",
        "        plt.close()\n",
        "    plt.show()"
      ]
    },
    {
      "attachments": {},
      "cell_type": "markdown",
      "metadata": {},
      "source": [
        "# **Training procedure**"
      ]
    },
    {
      "cell_type": "code",
      "execution_count": 88,
      "metadata": {},
      "outputs": [],
      "source": [
        "class Observer:\n",
        "    def __init__(self) -> None:\n",
        "        self.generator_loss = []\n",
        "        self.discriminator_loss = []\n",
        "\n",
        "\n",
        "def get_batch(generator, theta,  dataset, batch_size=32, no_repetitions = 100):\n",
        "\n",
        "    batch_size //= 2 # Split evenly among fake and real samples\n",
        "\n",
        "    fake_data = generator.generate_images(theta, batch_size, no_repetitions = no_repetitions)\n",
        "    real_data = dataset[np.random.randint(0, dataset.shape[0], batch_size)]\n",
        "\n",
        "    X = np.concatenate([fake_data, real_data], axis=0)\n",
        "    y = np.concatenate([np.zeros([batch_size, 1]), np.ones([batch_size, 1])], axis=0)\n",
        "    \n",
        "    return X, y\n",
        "\n",
        "\n",
        "\n",
        "def train_gan(theta, \n",
        "              generator, \n",
        "              discriminator, \n",
        "              dataset,\n",
        "              learning_rate_generator = 0.3,\n",
        "              learning_rate_discriminator = 0.01, \n",
        "              n_epochs=30, \n",
        "              batch_size=32, \n",
        "              no_repetitions = 100, \n",
        "              observer = None\n",
        "              ):\n",
        "    batches_per_epoch = int(len(dataset) / batch_size / 2)\n",
        "    discriminator.model.compile(optimizer=tf.keras.optimizers.Adam(learning_rate=learning_rate_discriminator),loss=discriminator_loss)\n",
        "    \n",
        "    for epoch in range(n_epochs):\n",
        "        print(f\"Epoch {epoch}\")\n",
        "        for batch in range(batches_per_epoch):\n",
        "            print(f\"Batch {batch}\")\n",
        "            X, y = get_batch(generator, theta, dataset, batch_size=batch_size, no_repetitions = no_repetitions)\n",
        "            loss = discriminator.model.train_on_batch(X, y)\n",
        "            if(observer is not None):\n",
        "                observer.discriminator_loss.append(loss)\n",
        "            print(f\"Discriminator loss: {loss}\")\n",
        "           \n",
        "\n",
        "            images = np.array(generator.generate_images(theta, batch_size, no_repetitions = no_repetitions))\n",
        "            probs = discriminator.predict(images, batch_size = batch_size)\n",
        "            loss = generator_loss(probs)\n",
        "            if(observer is not None):\n",
        "                observer.generator_loss.append(loss)\n",
        "            print(f\"Generator loss: {loss}\")\n",
        "            grads =  compute_gradients_generator(theta, generator, discriminator, batch_size = batch_size//2, no_repetitions = no_repetitions)\n",
        "            # print(f\"Grads: {grads}\")\n",
        "            theta -= learning_rate_generator * grads\n",
        "       \n",
        "        images = generator.generate_images(theta,9)\n",
        "        grid_plot(images, epoch, name='GAN generated images', n=3, save=False)\n",
        "    return theta"
      ]
    },
    {
      "attachments": {},
      "cell_type": "markdown",
      "metadata": {},
      "source": [
        "# **8x8  images of 0**"
      ]
    },
    {
      "cell_type": "code",
      "execution_count": 89,
      "metadata": {},
      "outputs": [
        {
          "data": {
            "image/png": "[encoded data removed]",
            "text/plain": [
              "<Figure size 640x480 with 9 Axes>"
            ]
          },
          "metadata": {},
          "output_type": "display_data"
        }
      ],
      "source": [
        "from sklearn.datasets import load_digits\n",
        "\n",
        "mnist = load_digits()\n",
        "\n",
        "data = []\n",
        "for image,target in zip(mnist.data,mnist.target):\n",
        "    if(target == 0):\n",
        "        image = np.reshape(image/16,(8,8))\n",
        "        # image = cv2.resize(image, (4,4),interpolation=cv2.INTER_AREA)\n",
        "        data.append(image)\n",
        "    \n",
        "data = np.array(data)\n",
        "grid_plot(data[:9],n=3)"
      ]
    },
    {
      "attachments": {},
      "cell_type": "markdown",
      "metadata": {},
      "source": [
        "Simulate for 1000 reps"
      ]
    },
    {
      "cell_type": "code",
      "execution_count": 90,
      "metadata": {
        "colab": {
          "base_uri": "https://localhost:8080/",
          "height": 541
        },
        "id": "wQOjYaQXAcis",
        "outputId": "2a7e42d4-e6e2-4ff7-f850-c9df01406164"
      },
      "outputs": [
        {
          "name": "stdout",
          "output_type": "stream",
          "text": [
            "0: ───Ry(z_0)───Rx(θ_0)────Ry(θ_0)───Rz(θ_2)────@───Rx(θ_15)───Ry(θ_15)───Rz(θ_17)──────────────@─────────────────────────────\n",
            "                                                │                                               │\n",
            "1: ───Ry(z_1)───Rx(θ_3)────Ry(θ_1)───Rz(θ_5)────@───@──────────Rx(θ_18)───Ry(θ_16)───Rz(θ_20)───@──────────@──────────────────\n",
            "                                                    │                                                      │\n",
            "2: ───Ry(z_2)───Rx(θ_6)────Ry(θ_2)───Rz(θ_8)────────@──────────@──────────Rx(θ_21)───Ry(θ_17)───Rz(θ_23)───@──────────@───────\n",
            "                                                               │                                                      │\n",
            "3: ───Ry(z_3)───Rx(θ_9)────Ry(θ_3)───Rz(θ_11)──────────────────@──────────@──────────Rx(θ_24)───Ry(θ_18)───Rz(θ_26)───@───@───\n",
            "                                                                          │                                               │\n",
            "4: ───Ry(z_4)───Rx(θ_12)───Ry(θ_4)───Rz(θ_14)─────────────────────────────@──────────Rx(θ_27)───Ry(θ_19)───Rz(θ_29)───────@───\n",
            "---------\n",
            "0: ───Ry(z_0)───Rx(θ_30)───Ry(θ_30)───Rz(θ_32)───@───Rx(θ_45)───Ry(θ_45)───Rz(θ_47)──────────────@─────────────────────────────\n",
            "                                                 │                                               │\n",
            "1: ───Ry(z_1)───Rx(θ_33)───Ry(θ_31)───Rz(θ_35)───@───@──────────Rx(θ_48)───Ry(θ_46)───Rz(θ_50)───@──────────@──────────────────\n",
            "                                                     │                                                      │\n",
            "2: ───Ry(z_2)───Rx(θ_36)───Ry(θ_32)───Rz(θ_38)───────@──────────@──────────Rx(θ_51)───Ry(θ_47)───Rz(θ_53)───@──────────@───────\n",
            "                                                                │                                                      │\n",
            "3: ───Ry(z_3)───Rx(θ_39)───Ry(θ_33)───Rz(θ_41)──────────────────@──────────@──────────Rx(θ_54)───Ry(θ_48)───Rz(θ_56)───@───@───\n",
            "                                                                           │                                               │\n",
            "4: ───Ry(z_4)───Rx(θ_42)───Ry(θ_34)───Rz(θ_44)─────────────────────────────@──────────Rx(θ_57)───Ry(θ_49)───Rz(θ_59)───────@───\n",
            "---------\n",
            "0: ───Ry(z_0)───Rx(θ_60)───Ry(θ_60)───Rz(θ_62)───@───Rx(θ_75)───Ry(θ_75)───Rz(θ_77)──────────────@─────────────────────────────\n",
            "                                                 │                                               │\n",
            "1: ───Ry(z_1)───Rx(θ_63)───Ry(θ_61)───Rz(θ_65)───@───@──────────Rx(θ_78)───Ry(θ_76)───Rz(θ_80)───@──────────@──────────────────\n",
            "                                                     │                                                      │\n",
            "2: ───Ry(z_2)───Rx(θ_66)───Ry(θ_62)───Rz(θ_68)───────@──────────@──────────Rx(θ_81)───Ry(θ_77)───Rz(θ_83)───@──────────@───────\n",
            "                                                                │                                                      │\n",
            "3: ───Ry(z_3)───Rx(θ_69)───Ry(θ_63)───Rz(θ_71)──────────────────@──────────@──────────Rx(θ_84)───Ry(θ_78)───Rz(θ_86)───@───@───\n",
            "                                                                           │                                               │\n",
            "4: ───Ry(z_4)───Rx(θ_72)───Ry(θ_64)───Rz(θ_74)─────────────────────────────@──────────Rx(θ_87)───Ry(θ_79)───Rz(θ_89)───────@───\n",
            "---------\n",
            "0: ───Ry(z_0)───Rx(θ_90)────Ry(θ_90)───Rz(θ_92)────@───Rx(θ_105)───Ry(θ_105)───Rz(θ_107)───────────────@───────────────────────────────\n",
            "                                                   │                                                   │\n",
            "1: ───Ry(z_1)───Rx(θ_93)────Ry(θ_91)───Rz(θ_95)────@───@───────────Rx(θ_108)───Ry(θ_106)───Rz(θ_110)───@───────────@───────────────────\n",
            "                                                       │                                                           │\n",
            "2: ───Ry(z_2)───Rx(θ_96)────Ry(θ_92)───Rz(θ_98)────────@───────────@───────────Rx(θ_111)───Ry(θ_107)───Rz(θ_113)───@───────────@───────\n",
            "                                                                   │                                                           │\n",
            "3: ───Ry(z_3)───Rx(θ_99)────Ry(θ_93)───Rz(θ_101)───────────────────@───────────@───────────Rx(θ_114)───Ry(θ_108)───Rz(θ_116)───@───@───\n",
            "                                                                               │                                                   │\n",
            "4: ───Ry(z_4)───Rx(θ_102)───Ry(θ_94)───Rz(θ_104)───────────────────────────────@───────────Rx(θ_117)───Ry(θ_109)───Rz(θ_119)───────@───\n",
            "---------\n",
            "0: ───Ry(z_0)───Rx(θ_120)───Ry(θ_120)───Rz(θ_122)───@───Rx(θ_135)───Ry(θ_135)───Rz(θ_137)───────────────@───────────────────────────────\n",
            "                                                    │                                                   │\n",
            "1: ───Ry(z_1)───Rx(θ_123)───Ry(θ_121)───Rz(θ_125)───@───@───────────Rx(θ_138)───Ry(θ_136)───Rz(θ_140)───@───────────@───────────────────\n",
            "                                                        │                                                           │\n",
            "2: ───Ry(z_2)───Rx(θ_126)───Ry(θ_122)───Rz(θ_128)───────@───────────@───────────Rx(θ_141)───Ry(θ_137)───Rz(θ_143)───@───────────@───────\n",
            "                                                                    │                                                           │\n",
            "3: ───Ry(z_3)───Rx(θ_129)───Ry(θ_123)───Rz(θ_131)───────────────────@───────────@───────────Rx(θ_144)───Ry(θ_138)───Rz(θ_146)───@───@───\n",
            "                                                                                │                                                   │\n",
            "4: ───Ry(z_4)───Rx(θ_132)───Ry(θ_124)───Rz(θ_134)───────────────────────────────@───────────Rx(θ_147)───Ry(θ_139)───Rz(θ_149)───────@───\n",
            "---------\n",
            "0: ───Ry(z_0)───Rx(θ_150)───Ry(θ_150)───Rz(θ_152)───@───Rx(θ_165)───Ry(θ_165)───Rz(θ_167)───────────────@───────────────────────────────\n",
            "                                                    │                                                   │\n",
            "1: ───Ry(z_1)───Rx(θ_153)───Ry(θ_151)───Rz(θ_155)───@───@───────────Rx(θ_168)───Ry(θ_166)───Rz(θ_170)───@───────────@───────────────────\n",
            "                                                        │                                                           │\n",
            "2: ───Ry(z_2)───Rx(θ_156)───Ry(θ_152)───Rz(θ_158)───────@───────────@───────────Rx(θ_171)───Ry(θ_167)───Rz(θ_173)───@───────────@───────\n",
            "                                                                    │                                                           │\n",
            "3: ───Ry(z_3)───Rx(θ_159)───Ry(θ_153)───Rz(θ_161)───────────────────@───────────@───────────Rx(θ_174)───Ry(θ_168)───Rz(θ_176)───@───@───\n",
            "                                                                                │                                                   │\n",
            "4: ───Ry(z_4)───Rx(θ_162)───Ry(θ_154)───Rz(θ_164)───────────────────────────────@───────────Rx(θ_177)───Ry(θ_169)───Rz(θ_179)───────@───\n",
            "---------\n",
            "0: ───Ry(z_0)───Rx(θ_180)───Ry(θ_180)───Rz(θ_182)───@───Rx(θ_195)───Ry(θ_195)───Rz(θ_197)───────────────@───────────────────────────────\n",
            "                                                    │                                                   │\n",
            "1: ───Ry(z_1)───Rx(θ_183)───Ry(θ_181)───Rz(θ_185)───@───@───────────Rx(θ_198)───Ry(θ_196)───Rz(θ_200)───@───────────@───────────────────\n",
            "                                                        │                                                           │\n",
            "2: ───Ry(z_2)───Rx(θ_186)───Ry(θ_182)───Rz(θ_188)───────@───────────@───────────Rx(θ_201)───Ry(θ_197)───Rz(θ_203)───@───────────@───────\n",
            "                                                                    │                                                           │\n",
            "3: ───Ry(z_3)───Rx(θ_189)───Ry(θ_183)───Rz(θ_191)───────────────────@───────────@───────────Rx(θ_204)───Ry(θ_198)───Rz(θ_206)───@───@───\n",
            "                                                                                │                                                   │\n",
            "4: ───Ry(z_4)───Rx(θ_192)───Ry(θ_184)───Rz(θ_194)───────────────────────────────@───────────Rx(θ_207)───Ry(θ_199)───Rz(θ_209)───────@───\n",
            "---------\n",
            "0: ───Ry(z_0)───Rx(θ_210)───Ry(θ_210)───Rz(θ_212)───@───Rx(θ_225)───Ry(θ_225)───Rz(θ_227)───────────────@───────────────────────────────\n",
            "                                                    │                                                   │\n",
            "1: ───Ry(z_1)───Rx(θ_213)───Ry(θ_211)───Rz(θ_215)───@───@───────────Rx(θ_228)───Ry(θ_226)───Rz(θ_230)───@───────────@───────────────────\n",
            "                                                        │                                                           │\n",
            "2: ───Ry(z_2)───Rx(θ_216)───Ry(θ_212)───Rz(θ_218)───────@───────────@───────────Rx(θ_231)───Ry(θ_227)───Rz(θ_233)───@───────────@───────\n",
            "                                                                    │                                                           │\n",
            "3: ───Ry(z_3)───Rx(θ_219)───Ry(θ_213)───Rz(θ_221)───────────────────@───────────@───────────Rx(θ_234)───Ry(θ_228)───Rz(θ_236)───@───@───\n",
            "                                                                                │                                                   │\n",
            "4: ───Ry(z_4)───Rx(θ_222)───Ry(θ_214)───Rz(θ_224)───────────────────────────────@───────────Rx(θ_237)───Ry(θ_229)───Rz(θ_239)───────@───\n",
            "---------\n",
            "Model: \"model_13\"\n",
            "_________________________________________________________________\n",
            " Layer (type)                Output Shape              Param #   \n",
            "=================================================================\n",
            " input_14 (InputLayer)       [(None, 8, 8, 1)]         0         \n",
            "                                                                 \n",
            " conv2d_13 (Conv2D)          (None, 8, 8, 16)          160       \n",
            "                                                                 \n",
            " max_pooling2d_13 (MaxPoolin  (None, 4, 4, 16)         0         \n",
            " g2D)                                                            \n",
            "                                                                 \n",
            " flatten_13 (Flatten)        (None, 256)               0         \n",
            "                                                                 \n",
            " dense_13 (Dense)            (None, 1)                 257       \n",
            "                                                                 \n",
            "=================================================================\n",
            "Total params: 417\n",
            "Trainable params: 417\n",
            "Non-trainable params: 0\n",
            "_________________________________________________________________\n",
            "240\n"
          ]
        }
      ],
      "source": [
        "gen = GeneratorXYZ( image_shape=(8,8), data_size = 4, no_partitions = 8, no_ancillary_qubits = 1, no_blocks = 2)\n",
        "for circuit in gen.circuits:\n",
        "    print(circuit)\n",
        "    print(\"---------\")\n",
        "\n",
        "disc = Discriminator(image_shape=(8,8,1))\n",
        "\n",
        "theta = np.random.rand(len(gen.theta)) *np.pi\n",
        "print(len(theta))"
      ]
    },
    {
      "cell_type": "code",
      "execution_count": 91,
      "metadata": {
        "id": "5iBmLUzemsM_"
      },
      "outputs": [],
      "source": [
        "observer = Observer()\n",
        "\n",
        "theta = train_gan(theta,gen,disc,data,no_repetitions = 1000, n_epochs = 100, observer = observer)\n",
        "disc.model.save_weights(f\"simulate8x8/gen_weight\")\n",
        "np.save(f\"simulate8x8/theta_final\",theta)\n",
        "np.save(f\"simulate8x8/disc_loss_final\",observer.discriminator_loss)\n",
        "np.save(f\"simulate8x8/gen_loss_final\",observer.generator_loss)"
      ]
    },
    {
      "cell_type": "code",
      "execution_count": 120,
      "metadata": {
        "id": "0PUV91N1gW8Y"
      },
      "outputs": [
        {
          "data": {
            "image/png": "[encoded data removed]",
            "text/plain": [
              "<Figure size 640x480 with 9 Axes>"
            ]
          },
          "metadata": {},
          "output_type": "display_data"
        }
      ],
      "source": [
        "# theta = np.load(\"simulate8x8\\\\theta_final_2.npy\")\n",
        "images = gen.generate_images(theta,9,no_repetitions=1000)\n",
        "\n",
        "grid_plot(images,n=3)\n"
      ]
    },
    {
      "attachments": {},
      "cell_type": "markdown",
      "metadata": {},
      "source": [
        "Using state-vector"
      ]
    },
    {
      "cell_type": "code",
      "execution_count": 106,
      "metadata": {},
      "outputs": [
        {
          "name": "stdout",
          "output_type": "stream",
          "text": [
            "0: ───Ry(z_0)───Rx(θ_0)────Ry(θ_0)───Rz(θ_2)────@───Rx(θ_15)───Ry(θ_15)───Rz(θ_17)──────────────@─────────────────────────────\n",
            "                                                │                                               │\n",
            "1: ───Ry(z_1)───Rx(θ_3)────Ry(θ_1)───Rz(θ_5)────@───@──────────Rx(θ_18)───Ry(θ_16)───Rz(θ_20)───@──────────@──────────────────\n",
            "                                                    │                                                      │\n",
            "2: ───Ry(z_2)───Rx(θ_6)────Ry(θ_2)───Rz(θ_8)────────@──────────@──────────Rx(θ_21)───Ry(θ_17)───Rz(θ_23)───@──────────@───────\n",
            "                                                               │                                                      │\n",
            "3: ───Ry(z_3)───Rx(θ_9)────Ry(θ_3)───Rz(θ_11)──────────────────@──────────@──────────Rx(θ_24)───Ry(θ_18)───Rz(θ_26)───@───@───\n",
            "                                                                          │                                               │\n",
            "4: ───Ry(z_4)───Rx(θ_12)───Ry(θ_4)───Rz(θ_14)─────────────────────────────@──────────Rx(θ_27)───Ry(θ_19)───Rz(θ_29)───────@───\n",
            "---------\n",
            "0: ───Ry(z_0)───Rx(θ_30)───Ry(θ_30)───Rz(θ_32)───@───Rx(θ_45)───Ry(θ_45)───Rz(θ_47)──────────────@─────────────────────────────\n",
            "                                                 │                                               │\n",
            "1: ───Ry(z_1)───Rx(θ_33)───Ry(θ_31)───Rz(θ_35)───@───@──────────Rx(θ_48)───Ry(θ_46)───Rz(θ_50)───@──────────@──────────────────\n",
            "                                                     │                                                      │\n",
            "2: ───Ry(z_2)───Rx(θ_36)───Ry(θ_32)───Rz(θ_38)───────@──────────@──────────Rx(θ_51)───Ry(θ_47)───Rz(θ_53)───@──────────@───────\n",
            "                                                                │                                                      │\n",
            "3: ───Ry(z_3)───Rx(θ_39)───Ry(θ_33)───Rz(θ_41)──────────────────@──────────@──────────Rx(θ_54)───Ry(θ_48)───Rz(θ_56)───@───@───\n",
            "                                                                           │                                               │\n",
            "4: ───Ry(z_4)───Rx(θ_42)───Ry(θ_34)───Rz(θ_44)─────────────────────────────@──────────Rx(θ_57)───Ry(θ_49)───Rz(θ_59)───────@───\n",
            "---------\n",
            "0: ───Ry(z_0)───Rx(θ_60)───Ry(θ_60)───Rz(θ_62)───@───Rx(θ_75)───Ry(θ_75)───Rz(θ_77)──────────────@─────────────────────────────\n",
            "                                                 │                                               │\n",
            "1: ───Ry(z_1)───Rx(θ_63)───Ry(θ_61)───Rz(θ_65)───@───@──────────Rx(θ_78)───Ry(θ_76)───Rz(θ_80)───@──────────@──────────────────\n",
            "                                                     │                                                      │\n",
            "2: ───Ry(z_2)───Rx(θ_66)───Ry(θ_62)───Rz(θ_68)───────@──────────@──────────Rx(θ_81)───Ry(θ_77)───Rz(θ_83)───@──────────@───────\n",
            "                                                                │                                                      │\n",
            "3: ───Ry(z_3)───Rx(θ_69)───Ry(θ_63)───Rz(θ_71)──────────────────@──────────@──────────Rx(θ_84)───Ry(θ_78)───Rz(θ_86)───@───@───\n",
            "                                                                           │                                               │\n",
            "4: ───Ry(z_4)───Rx(θ_72)───Ry(θ_64)───Rz(θ_74)─────────────────────────────@──────────Rx(θ_87)───Ry(θ_79)───Rz(θ_89)───────@───\n",
            "---------\n",
            "0: ───Ry(z_0)───Rx(θ_90)────Ry(θ_90)───Rz(θ_92)────@───Rx(θ_105)───Ry(θ_105)───Rz(θ_107)───────────────@───────────────────────────────\n",
            "                                                   │                                                   │\n",
            "1: ───Ry(z_1)───Rx(θ_93)────Ry(θ_91)───Rz(θ_95)────@───@───────────Rx(θ_108)───Ry(θ_106)───Rz(θ_110)───@───────────@───────────────────\n",
            "                                                       │                                                           │\n",
            "2: ───Ry(z_2)───Rx(θ_96)────Ry(θ_92)───Rz(θ_98)────────@───────────@───────────Rx(θ_111)───Ry(θ_107)───Rz(θ_113)───@───────────@───────\n",
            "                                                                   │                                                           │\n",
            "3: ───Ry(z_3)───Rx(θ_99)────Ry(θ_93)───Rz(θ_101)───────────────────@───────────@───────────Rx(θ_114)───Ry(θ_108)───Rz(θ_116)───@───@───\n",
            "                                                                               │                                                   │\n",
            "4: ───Ry(z_4)───Rx(θ_102)───Ry(θ_94)───Rz(θ_104)───────────────────────────────@───────────Rx(θ_117)───Ry(θ_109)───Rz(θ_119)───────@───\n",
            "---------\n",
            "0: ───Ry(z_0)───Rx(θ_120)───Ry(θ_120)───Rz(θ_122)───@───Rx(θ_135)───Ry(θ_135)───Rz(θ_137)───────────────@───────────────────────────────\n",
            "                                                    │                                                   │\n",
            "1: ───Ry(z_1)───Rx(θ_123)───Ry(θ_121)───Rz(θ_125)───@───@───────────Rx(θ_138)───Ry(θ_136)───Rz(θ_140)───@───────────@───────────────────\n",
            "                                                        │                                                           │\n",
            "2: ───Ry(z_2)───Rx(θ_126)───Ry(θ_122)───Rz(θ_128)───────@───────────@───────────Rx(θ_141)───Ry(θ_137)───Rz(θ_143)───@───────────@───────\n",
            "                                                                    │                                                           │\n",
            "3: ───Ry(z_3)───Rx(θ_129)───Ry(θ_123)───Rz(θ_131)───────────────────@───────────@───────────Rx(θ_144)───Ry(θ_138)───Rz(θ_146)───@───@───\n",
            "                                                                                │                                                   │\n",
            "4: ───Ry(z_4)───Rx(θ_132)───Ry(θ_124)───Rz(θ_134)───────────────────────────────@───────────Rx(θ_147)───Ry(θ_139)───Rz(θ_149)───────@───\n",
            "---------\n",
            "0: ───Ry(z_0)───Rx(θ_150)───Ry(θ_150)───Rz(θ_152)───@───Rx(θ_165)───Ry(θ_165)───Rz(θ_167)───────────────@───────────────────────────────\n",
            "                                                    │                                                   │\n",
            "1: ───Ry(z_1)───Rx(θ_153)───Ry(θ_151)───Rz(θ_155)───@───@───────────Rx(θ_168)───Ry(θ_166)───Rz(θ_170)───@───────────@───────────────────\n",
            "                                                        │                                                           │\n",
            "2: ───Ry(z_2)───Rx(θ_156)───Ry(θ_152)───Rz(θ_158)───────@───────────@───────────Rx(θ_171)───Ry(θ_167)───Rz(θ_173)───@───────────@───────\n",
            "                                                                    │                                                           │\n",
            "3: ───Ry(z_3)───Rx(θ_159)───Ry(θ_153)───Rz(θ_161)───────────────────@───────────@───────────Rx(θ_174)───Ry(θ_168)───Rz(θ_176)───@───@───\n",
            "                                                                                │                                                   │\n",
            "4: ───Ry(z_4)───Rx(θ_162)───Ry(θ_154)───Rz(θ_164)───────────────────────────────@───────────Rx(θ_177)───Ry(θ_169)───Rz(θ_179)───────@───\n",
            "---------\n",
            "0: ───Ry(z_0)───Rx(θ_180)───Ry(θ_180)───Rz(θ_182)───@───Rx(θ_195)───Ry(θ_195)───Rz(θ_197)───────────────@───────────────────────────────\n",
            "                                                    │                                                   │\n",
            "1: ───Ry(z_1)───Rx(θ_183)───Ry(θ_181)───Rz(θ_185)───@───@───────────Rx(θ_198)───Ry(θ_196)───Rz(θ_200)───@───────────@───────────────────\n",
            "                                                        │                                                           │\n",
            "2: ───Ry(z_2)───Rx(θ_186)───Ry(θ_182)───Rz(θ_188)───────@───────────@───────────Rx(θ_201)───Ry(θ_197)───Rz(θ_203)───@───────────@───────\n",
            "                                                                    │                                                           │\n",
            "3: ───Ry(z_3)───Rx(θ_189)───Ry(θ_183)───Rz(θ_191)───────────────────@───────────@───────────Rx(θ_204)───Ry(θ_198)───Rz(θ_206)───@───@───\n",
            "                                                                                │                                                   │\n",
            "4: ───Ry(z_4)───Rx(θ_192)───Ry(θ_184)───Rz(θ_194)───────────────────────────────@───────────Rx(θ_207)───Ry(θ_199)───Rz(θ_209)───────@───\n",
            "---------\n",
            "0: ───Ry(z_0)───Rx(θ_210)───Ry(θ_210)───Rz(θ_212)───@───Rx(θ_225)───Ry(θ_225)───Rz(θ_227)───────────────@───────────────────────────────\n",
            "                                                    │                                                   │\n",
            "1: ───Ry(z_1)───Rx(θ_213)───Ry(θ_211)───Rz(θ_215)───@───@───────────Rx(θ_228)───Ry(θ_226)───Rz(θ_230)───@───────────@───────────────────\n",
            "                                                        │                                                           │\n",
            "2: ───Ry(z_2)───Rx(θ_216)───Ry(θ_212)───Rz(θ_218)───────@───────────@───────────Rx(θ_231)───Ry(θ_227)───Rz(θ_233)───@───────────@───────\n",
            "                                                                    │                                                           │\n",
            "3: ───Ry(z_3)───Rx(θ_219)───Ry(θ_213)───Rz(θ_221)───────────────────@───────────@───────────Rx(θ_234)───Ry(θ_228)───Rz(θ_236)───@───@───\n",
            "                                                                                │                                                   │\n",
            "4: ───Ry(z_4)───Rx(θ_222)───Ry(θ_214)───Rz(θ_224)───────────────────────────────@───────────Rx(θ_237)───Ry(θ_229)───Rz(θ_239)───────@───\n",
            "---------\n",
            "Model: \"model_16\"\n",
            "_________________________________________________________________\n",
            " Layer (type)                Output Shape              Param #   \n",
            "=================================================================\n",
            " input_17 (InputLayer)       [(None, 8, 8, 1)]         0         \n",
            "                                                                 \n",
            " conv2d_16 (Conv2D)          (None, 8, 8, 16)          160       \n",
            "                                                                 \n",
            " max_pooling2d_16 (MaxPoolin  (None, 4, 4, 16)         0         \n",
            " g2D)                                                            \n",
            "                                                                 \n",
            " flatten_16 (Flatten)        (None, 256)               0         \n",
            "                                                                 \n",
            " dense_16 (Dense)            (None, 1)                 257       \n",
            "                                                                 \n",
            "=================================================================\n",
            "Total params: 417\n",
            "Trainable params: 417\n",
            "Non-trainable params: 0\n",
            "_________________________________________________________________\n",
            "240\n"
          ]
        }
      ],
      "source": [
        "gen = GeneratorXYZ( image_shape=(8,8), data_size = 4, no_partitions = 8, no_ancillary_qubits = 1, no_blocks = 2)\n",
        "for circuit in gen.circuits:\n",
        "    print(circuit)\n",
        "    print(\"---------\")\n",
        "\n",
        "disc = Discriminator(image_shape=(8,8,1))\n",
        "\n",
        "theta = np.random.rand(len(gen.theta)) *np.pi\n",
        "print(len(theta))"
      ]
    },
    {
      "cell_type": "code",
      "execution_count": 94,
      "metadata": {},
      "outputs": [],
      "source": [
        "observer = Observer()\n",
        "\n",
        "theta = train_gan(theta,gen,disc,data,no_repetitions = 0, n_epochs = 100, observer = observer)\n",
        "disc.model.save_weights(f\"simulate8x8/gen_weight\")\n",
        "np.save(f\"state_vector8x8/theta_final\",theta)\n",
        "np.save(f\"state_vector8x8/disc_loss_final\",observer.discriminator_loss)\n",
        "np.save(f\"state_vector8x8/gen_loss_final\",observer.generator_loss)"
      ]
    },
    {
      "cell_type": "code",
      "execution_count": 119,
      "metadata": {},
      "outputs": [
        {
          "data": {
            "image/png": "[encoded data removed]",
            "text/plain": [
              "<Figure size 640x480 with 9 Axes>"
            ]
          },
          "metadata": {},
          "output_type": "display_data"
        }
      ],
      "source": [
        "# theta = np.load(\"state_vector8x8\\\\theta_final_1.npy\")\n",
        "images = gen.generate_images(theta,9,no_repetitions=0)\n",
        "\n",
        "grid_plot(images,n=3)\n"
      ]
    },
    {
      "attachments": {},
      "cell_type": "markdown",
      "metadata": {},
      "source": [
        "# **4x4  images of 1**"
      ]
    },
    {
      "cell_type": "code",
      "execution_count": 137,
      "metadata": {},
      "outputs": [
        {
          "data": {
            "image/png": "[encoded data removed]",
            "text/plain": [
              "<Figure size 640x480 with 9 Axes>"
            ]
          },
          "metadata": {},
          "output_type": "display_data"
        }
      ],
      "source": [
        "from sklearn.datasets import load_digits\n",
        "\n",
        "mnist = load_digits()\n",
        "\n",
        "data = []\n",
        "for image,target in zip(mnist.data,mnist.target):\n",
        "    if(target == 1):\n",
        "        image = np.reshape(image/16,(8,8))\n",
        "        image = cv2.resize(image, (4,4),interpolation=cv2.INTER_AREA)\n",
        "        data.append(image)\n",
        "    \n",
        "data = np.array(data)\n",
        "grid_plot(data[:9],n=3)"
      ]
    },
    {
      "attachments": {},
      "cell_type": "markdown",
      "metadata": {},
      "source": [
        "Simulate for 1000 reps"
      ]
    },
    {
      "cell_type": "code",
      "execution_count": null,
      "metadata": {},
      "outputs": [
        {
          "name": "stdout",
          "output_type": "stream",
          "text": [
            "0: ───Ry(z_0)───Ry(θ_0)───@───Ry(θ_4)─────────────@─────────Ry(θ_8)─────────────@──────────────────\n",
            "                          │                       │                             │\n",
            "1: ───Ry(z_1)───Ry(θ_1)───@───@─────────Ry(θ_5)───@─────────@─────────Ry(θ_9)───@──────────@───────\n",
            "                              │                             │                              │\n",
            "2: ───Ry(z_2)───Ry(θ_2)───────@─────────@─────────Ry(θ_6)───@─────────@─────────Ry(θ_10)───@───@───\n",
            "                                        │                             │                        │\n",
            "3: ───Ry(z_3)───Ry(θ_3)─────────────────@─────────Ry(θ_7)─────────────@─────────Ry(θ_11)───────@───\n",
            "---------\n",
            "0: ───Ry(z_0)───Ry(θ_12)───@───Ry(θ_16)──────────────@──────────Ry(θ_20)──────────────@──────────────────\n",
            "                           │                         │                                │\n",
            "1: ───Ry(z_1)───Ry(θ_13)───@───@──────────Ry(θ_17)───@──────────@──────────Ry(θ_21)───@──────────@───────\n",
            "                               │                                │                                │\n",
            "2: ───Ry(z_2)───Ry(θ_14)───────@──────────@──────────Ry(θ_18)───@──────────@──────────Ry(θ_22)───@───@───\n",
            "                                          │                                │                         │\n",
            "3: ───Ry(z_3)───Ry(θ_15)──────────────────@──────────Ry(θ_19)──────────────@──────────Ry(θ_23)───────@───\n",
            "---------\n",
            "0: ───Ry(z_0)───Ry(θ_24)───@───Ry(θ_28)──────────────@──────────Ry(θ_32)──────────────@──────────────────\n",
            "                           │                         │                                │\n",
            "1: ───Ry(z_1)───Ry(θ_25)───@───@──────────Ry(θ_29)───@──────────@──────────Ry(θ_33)───@──────────@───────\n",
            "                               │                                │                                │\n",
            "2: ───Ry(z_2)───Ry(θ_26)───────@──────────@──────────Ry(θ_30)───@──────────@──────────Ry(θ_34)───@───@───\n",
            "                                          │                                │                         │\n",
            "3: ───Ry(z_3)───Ry(θ_27)──────────────────@──────────Ry(θ_31)──────────────@──────────Ry(θ_35)───────@───\n",
            "---------\n",
            "0: ───Ry(z_0)───Ry(θ_36)───@───Ry(θ_40)──────────────@──────────Ry(θ_44)──────────────@──────────────────\n",
            "                           │                         │                                │\n",
            "1: ───Ry(z_1)───Ry(θ_37)───@───@──────────Ry(θ_41)───@──────────@──────────Ry(θ_45)───@──────────@───────\n",
            "                               │                                │                                │\n",
            "2: ───Ry(z_2)───Ry(θ_38)───────@──────────@──────────Ry(θ_42)───@──────────@──────────Ry(θ_46)───@───@───\n",
            "                                          │                                │                         │\n",
            "3: ───Ry(z_3)───Ry(θ_39)──────────────────@──────────Ry(θ_43)──────────────@──────────Ry(θ_47)───────@───\n",
            "---------\n",
            "Model: \"model_12\"\n",
            "_________________________________________________________________\n",
            " Layer (type)                Output Shape              Param #   \n",
            "=================================================================\n",
            " input_13 (InputLayer)       [(None, 4, 4, 1)]         0         \n",
            "                                                                 \n",
            " conv2d_12 (Conv2D)          (None, 4, 4, 16)          160       \n",
            "                                                                 \n",
            " max_pooling2d_12 (MaxPoolin  (None, 2, 2, 16)         0         \n",
            " g2D)                                                            \n",
            "                                                                 \n",
            " flatten_12 (Flatten)        (None, 64)                0         \n",
            "                                                                 \n",
            " dense_12 (Dense)            (None, 1)                 65        \n",
            "                                                                 \n",
            "=================================================================\n",
            "Total params: 225\n",
            "Trainable params: 225\n",
            "Non-trainable params: 0\n",
            "_________________________________________________________________\n",
            "48\n"
          ]
        }
      ],
      "source": [
        "gen = GeneratorY( image_shape=(4,4), data_size = 3, no_partitions = 4, no_ancillary_qubits = 1, no_blocks = 3)\n",
        "for circuit in gen.circuits:\n",
        "    print(circuit)\n",
        "    print(\"---------\")\n",
        "\n",
        "disc = Discriminator(image_shape=(4,4,1))\n",
        "\n",
        "theta = np.random.rand(len(gen.theta)) *np.pi\n",
        "print(len(theta))"
      ]
    },
    {
      "cell_type": "code",
      "execution_count": null,
      "metadata": {},
      "outputs": [],
      "source": [
        "observer = Observer()\n",
        "\n",
        "theta = train_gan(theta,gen,disc,data,no_repetitions = 1000, n_epochs = 100, observer = observer)\n",
        "disc.model.save_weights(f\"simulate4x4/gen_weight\")\n",
        "np.save(f\"simulate4x4/theta_final\",theta)\n",
        "np.save(f\"simulate4x4/disc_loss_final\",observer.discriminator_loss)\n",
        "np.save(f\"simulate4x4/gen_loss_final\",observer.generator_loss)"
      ]
    },
    {
      "cell_type": "code",
      "execution_count": 169,
      "metadata": {},
      "outputs": [
        {
          "data": {
            "image/png": "[encoded data removed]",
            "text/plain": [
              "<Figure size 640x480 with 9 Axes>"
            ]
          },
          "metadata": {},
          "output_type": "display_data"
        }
      ],
      "source": [
        "# theta = np.load(\"simulate4x4\\\\theta_final.npy\")\n",
        "images = gen.generate_images(theta,9,no_repetitions=1000)\n",
        "\n",
        "grid_plot(images,n=3)"
      ]
    },
    {
      "attachments": {},
      "cell_type": "markdown",
      "metadata": {},
      "source": []
    },
    {
      "cell_type": "code",
      "execution_count": 122,
      "metadata": {},
      "outputs": [
        {
          "name": "stdout",
          "output_type": "stream",
          "text": [
            "0: ───Ry(z_0)───Ry(θ_0)───@───Ry(θ_4)─────────────@─────────Ry(θ_8)─────────────@──────────────────\n",
            "                          │                       │                             │\n",
            "1: ───Ry(z_1)───Ry(θ_1)───@───@─────────Ry(θ_5)───@─────────@─────────Ry(θ_9)───@──────────@───────\n",
            "                              │                             │                              │\n",
            "2: ───Ry(z_2)───Ry(θ_2)───────@─────────@─────────Ry(θ_6)───@─────────@─────────Ry(θ_10)───@───@───\n",
            "                                        │                             │                        │\n",
            "3: ───Ry(z_3)───Ry(θ_3)─────────────────@─────────Ry(θ_7)─────────────@─────────Ry(θ_11)───────@───\n",
            "---------\n",
            "0: ───Ry(z_0)───Ry(θ_12)───@───Ry(θ_16)──────────────@──────────Ry(θ_20)──────────────@──────────────────\n",
            "                           │                         │                                │\n",
            "1: ───Ry(z_1)───Ry(θ_13)───@───@──────────Ry(θ_17)───@──────────@──────────Ry(θ_21)───@──────────@───────\n",
            "                               │                                │                                │\n",
            "2: ───Ry(z_2)───Ry(θ_14)───────@──────────@──────────Ry(θ_18)───@──────────@──────────Ry(θ_22)───@───@───\n",
            "                                          │                                │                         │\n",
            "3: ───Ry(z_3)───Ry(θ_15)──────────────────@──────────Ry(θ_19)──────────────@──────────Ry(θ_23)───────@───\n",
            "---------\n",
            "0: ───Ry(z_0)───Ry(θ_24)───@───Ry(θ_28)──────────────@──────────Ry(θ_32)──────────────@──────────────────\n",
            "                           │                         │                                │\n",
            "1: ───Ry(z_1)───Ry(θ_25)───@───@──────────Ry(θ_29)───@──────────@──────────Ry(θ_33)───@──────────@───────\n",
            "                               │                                │                                │\n",
            "2: ───Ry(z_2)───Ry(θ_26)───────@──────────@──────────Ry(θ_30)───@──────────@──────────Ry(θ_34)───@───@───\n",
            "                                          │                                │                         │\n",
            "3: ───Ry(z_3)───Ry(θ_27)──────────────────@──────────Ry(θ_31)──────────────@──────────Ry(θ_35)───────@───\n",
            "---------\n",
            "0: ───Ry(z_0)───Ry(θ_36)───@───Ry(θ_40)──────────────@──────────Ry(θ_44)──────────────@──────────────────\n",
            "                           │                         │                                │\n",
            "1: ───Ry(z_1)───Ry(θ_37)───@───@──────────Ry(θ_41)───@──────────@──────────Ry(θ_45)───@──────────@───────\n",
            "                               │                                │                                │\n",
            "2: ───Ry(z_2)───Ry(θ_38)───────@──────────@──────────Ry(θ_42)───@──────────@──────────Ry(θ_46)───@───@───\n",
            "                                          │                                │                         │\n",
            "3: ───Ry(z_3)───Ry(θ_39)──────────────────@──────────Ry(θ_43)──────────────@──────────Ry(θ_47)───────@───\n",
            "---------\n",
            "Model: \"model_17\"\n",
            "_________________________________________________________________\n",
            " Layer (type)                Output Shape              Param #   \n",
            "=================================================================\n",
            " input_18 (InputLayer)       [(None, 4, 4, 1)]         0         \n",
            "                                                                 \n",
            " conv2d_17 (Conv2D)          (None, 4, 4, 16)          160       \n",
            "                                                                 \n",
            " max_pooling2d_17 (MaxPoolin  (None, 2, 2, 16)         0         \n",
            " g2D)                                                            \n",
            "                                                                 \n",
            " flatten_17 (Flatten)        (None, 64)                0         \n",
            "                                                                 \n",
            " dense_17 (Dense)            (None, 1)                 65        \n",
            "                                                                 \n",
            "=================================================================\n",
            "Total params: 225\n",
            "Trainable params: 225\n",
            "Non-trainable params: 0\n",
            "_________________________________________________________________\n",
            "48\n"
          ]
        }
      ],
      "source": [
        "gen = GeneratorY( image_shape=(4,4), data_size = 3, no_partitions = 4, no_ancillary_qubits = 1, no_blocks = 3)\n",
        "for circuit in gen.circuits:\n",
        "    print(circuit)\n",
        "    print(\"---------\")\n",
        "\n",
        "disc = Discriminator(image_shape=(4,4,1))\n",
        "\n",
        "theta = np.random.rand(len(gen.theta)) *np.pi\n",
        "print(len(theta))"
      ]
    },
    {
      "cell_type": "code",
      "execution_count": 97,
      "metadata": {},
      "outputs": [],
      "source": [
        "observer = Observer()\n",
        "\n",
        "theta = train_gan(theta,gen,disc,data,no_repetitions = 0, n_epochs = 100, observer = observer)\n",
        "disc.model.save_weights(f\"simulate4x4/gen_weight\")\n",
        "np.save(f\"simulate4x4/theta_final\",theta)\n",
        "np.save(f\"simulate4x4/disc_loss_final\",observer.discriminator_loss)\n",
        "np.save(f\"simulate4x4/gen_loss_final\",observer.generator_loss)"
      ]
    },
    {
      "cell_type": "code",
      "execution_count": 209,
      "metadata": {},
      "outputs": [
        {
          "data": {
            "image/png": "[encoded data removed]",
            "text/plain": [
              "<Figure size 640x480 with 9 Axes>"
            ]
          },
          "metadata": {},
          "output_type": "display_data"
        }
      ],
      "source": [
        "# theta = np.load(\"state_vector4x4\\\\theta_final.npy\")\n",
        "images = gen.generate_images(theta,9,no_repetitions=0)\n",
        "\n",
        "grid_plot(images,n=3)"
      ]
    }
  ],
  "metadata": {
    "colab": {
      "gpuType": "T4",
      "machine_shape": "hm",
      "provenance": []
    },
    "kernelspec": {
      "display_name": "Python 3",
      "name": "python3"
    },
    "language_info": {
      "codemirror_mode": {
        "name": "ipython",
        "version": 3
      },
      "file_extension": ".py",
      "mimetype": "text/x-python",
      "name": "python",
      "nbconvert_exporter": "python",
      "pygments_lexer": "ipython3",
      "version": "3.9.19"
    }
  },
  "nbformat": 4,
  "nbformat_minor": 0
}
